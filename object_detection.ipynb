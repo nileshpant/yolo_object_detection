{
  "nbformat": 4,
  "nbformat_minor": 0,
  "metadata": {
    "colab": {
      "name": "Untitled6.ipynb",
      "version": "0.3.2",
      "provenance": [],
      "include_colab_link": true
    },
    "kernelspec": {
      "name": "python3",
      "display_name": "Python 3"
    }
  },
  "cells": [
    {
      "cell_type": "markdown",
      "metadata": {
        "id": "view-in-github",
        "colab_type": "text"
      },
      "source": [
        "<a href=\"https://colab.research.google.com/github/nileshpant/yolo_object_detection/blob/master/object_detection.ipynb\" target=\"_parent\"><img src=\"https://colab.research.google.com/assets/colab-badge.svg\" alt=\"Open In Colab\"/></a>"
      ]
    },
    {
      "cell_type": "code",
      "metadata": {
        "id": "GtipkMIQ61kB",
        "colab_type": "code",
        "colab": {}
      },
      "source": [
        "import cv2\n",
        "import numpy as np\n",
        "import pandas as pd\n",
        "import tensorflow as tf\n",
        "import math\n",
        "\n",
        "import matplotlib.pyplot as plt\n",
        "%matplotlib inline"
      ],
      "execution_count": 0,
      "outputs": []
    },
    {
      "cell_type": "code",
      "metadata": {
        "id": "IgFzivHs61Zg",
        "colab_type": "code",
        "colab": {}
      },
      "source": [
        "net = cv2.dnn.readNet(\"yolov3.weights\", \"yolov3.cfg\")"
      ],
      "execution_count": 0,
      "outputs": []
    },
    {
      "cell_type": "code",
      "metadata": {
        "id": "wnmdZ_wQ6y0d",
        "colab_type": "code",
        "colab": {}
      },
      "source": [
        "classes=[]\n",
        "with open('coco.names','r') as f:\n",
        "    classes = [line.strip() for line in f.readlines()]"
      ],
      "execution_count": 0,
      "outputs": []
    },
    {
      "cell_type": "code",
      "metadata": {
        "id": "MQ0jmfhL61cX",
        "colab_type": "code",
        "colab": {}
      },
      "source": [
        "print(classes)"
      ],
      "execution_count": 0,
      "outputs": []
    },
    {
      "cell_type": "code",
      "metadata": {
        "id": "HXWcFMWe61fB",
        "colab_type": "code",
        "colab": {}
      },
      "source": [
        "layer_names = net.getLayerNames()\n",
        "outputlayers = [layer_names[i[0]-1] for i in net.getUnconnectedOutLayers()]"
      ],
      "execution_count": 0,
      "outputs": []
    },
    {
      "cell_type": "code",
      "metadata": {
        "id": "5Y6dDFcz61hZ",
        "colab_type": "code",
        "colab": {}
      },
      "source": [
        "colors = np.random.uniform(0, 255, size=(len(classes), 3))"
      ],
      "execution_count": 0,
      "outputs": []
    },
    {
      "cell_type": "code",
      "metadata": {
        "id": "DcTpKg547Nul",
        "colab_type": "code",
        "colab": {}
      },
      "source": [
        "img = cv2.imread('room_ser.jpg')"
      ],
      "execution_count": 0,
      "outputs": []
    },
    {
      "cell_type": "code",
      "metadata": {
        "id": "y69uyq6H7NyQ",
        "colab_type": "code",
        "colab": {}
      },
      "source": [
        "cv2.imshow('Image',img)\n",
        "plt.imshow(img)\n",
        "plt.title('my picture')\n"
      ],
      "execution_count": 0,
      "outputs": []
    },
    {
      "cell_type": "code",
      "metadata": {
        "id": "fQrKNfqF7Nsp",
        "colab_type": "code",
        "colab": {}
      },
      "source": [
        "cv2.imshow('Image',img)\n",
        "plt.imshow(img)\n",
        "plt.title('my picture')\n"
      ],
      "execution_count": 0,
      "outputs": []
    },
    {
      "cell_type": "code",
      "metadata": {
        "id": "HufoS-dC7Nrg",
        "colab_type": "code",
        "colab": {}
      },
      "source": [
        "blob=cv2.dnn.blobFromImage(img, 0.00392, (416, 416), (0, 0, 0), True, crop=False)\n",
        "net.setInput(blob)\n",
        "outs = net.forward(outputlayers)"
      ],
      "execution_count": 0,
      "outputs": []
    },
    {
      "cell_type": "code",
      "metadata": {
        "id": "a-r50Bim7Non",
        "colab_type": "code",
        "colab": {}
      },
      "source": [
        "for b in blob:\n",
        "    for n,image_blob in enumerate(b):\n",
        "        cv2.imshow(str(n),image_blob)\n",
        "        \n",
        "\n",
        "cv2.imshow(\"Image\", image_blob)\n",
        "cv2.waitKey(0)\n",
        "cv2.destroyAllWindows()   "
      ],
      "execution_count": 0,
      "outputs": []
    },
    {
      "cell_type": "code",
      "metadata": {
        "id": "yeVamiI-7Nlp",
        "colab_type": "code",
        "colab": {}
      },
      "source": [
        "class_ids = []\n",
        "confidences = []\n",
        "boxes = []\n",
        "for out in outs:\n",
        "    for detection in out:\n",
        "        scores = detection[5:]\n",
        "        class_id = np.argmax(scores)\n",
        "        confidence = scores[class_id]\n",
        "        if confidence > 0.5:\n",
        "            # Object detected\n",
        "            center_x = int(detection[0] * width)\n",
        "            center_y = int(detection[1] * height)\n",
        "            w = int(detection[2] * width)\n",
        "            h = int(detection[3] * height)\n",
        "            \n",
        "            cv2.circle(img,(center_x,center_y),10,(0,255,0),2)\n",
        "\n",
        "            #Rectangle coordinates\n",
        "            x = int(center_x - w / 2)\n",
        "            y = int(center_y - h / 2)\n",
        "            boxes.append([x, y, w, h])\n",
        "            confidences.append(float(confidence))\n",
        "            class_ids.append(class_id)"
      ],
      "execution_count": 0,
      "outputs": []
    },
    {
      "cell_type": "code",
      "metadata": {
        "id": "tDzpbVgD7Nhj",
        "colab_type": "code",
        "colab": {}
      },
      "source": [
        "indexes = cv2.dnn.NMSBoxes(boxes, confidences, 0.5, 0.4)"
      ],
      "execution_count": 0,
      "outputs": []
    },
    {
      "cell_type": "code",
      "metadata": {
        "id": "47_2UeOr7jjp",
        "colab_type": "code",
        "colab": {}
      },
      "source": [
        ""
      ],
      "execution_count": 0,
      "outputs": []
    },
    {
      "cell_type": "code",
      "metadata": {
        "id": "d_mJVo4O7juZ",
        "colab_type": "code",
        "colab": {}
      },
      "source": [
        "font = cv2.FONT_HERSHEY_PLAIN\n",
        "for i in range(len(boxes)):\n",
        "    if i in indexes:\n",
        "        x, y, w, h = boxes[i]\n",
        "        label = str(classes[class_ids[i]])\n",
        "        color = colors[i]\n",
        "        cv2.rectangle(img, (x, y), (x + w, y + h), color, 2)\n",
        "        cv2.putText(img, label, (x, y + 30), font, 3, color, 3)\n",
        "cv2.imshow(\"Image\", img)\n",
        "cv2.waitKey(0)\n",
        "cv2.destroyAllWindows()"
      ],
      "execution_count": 0,
      "outputs": []
    }
  ]
}